{
 "cells": [
  {
   "cell_type": "markdown",
   "id": "threatened-orbit",
   "metadata": {},
   "source": [
    "# Air passengers data set"
   ]
  },
  {
   "cell_type": "markdown",
   "id": "aggressive-license",
   "metadata": {},
   "source": [
    "In this notebook we will:\n",
    "\n",
    "1. Provide instructions to download the air passengers data set\n",
    "\n",
    "2. Save the time series data in the correct location for use in the course\n",
    "\n"
   ]
  },
  {
   "cell_type": "markdown",
   "id": "competitive-robertson",
   "metadata": {},
   "source": [
    "# Get the dataset"
   ]
  },
  {
   "cell_type": "markdown",
   "id": "outdoor-architecture",
   "metadata": {},
   "source": [
    "The dataset can be obtained from this [link](https://raw.githubusercontent.com/facebook/prophet/master/examples/example_air_passengers.csv). It will open a raw file in GitHub. A simple way of obtaining the data is to copy and paste the values from your browser into a text editor of your choice. \n",
    "Save it in the Datasets directory, which is found at the root of this project, with the filename `example_air_passengers.csv`.\n",
    "\n"
   ]
  },
  {
   "cell_type": "markdown",
   "id": "respected-worth",
   "metadata": {},
   "source": [
    "# Data set synopsis"
   ]
  },
  {
   "cell_type": "markdown",
   "id": "mediterranean-toilet",
   "metadata": {},
   "source": [
    "The air passengers dataset is a monthly timeseries representing the number of US air passengers collected between January 1949 and December 1960."
   ]
  },
  {
   "cell_type": "markdown",
   "id": "italic-serial",
   "metadata": {},
   "source": [
    "# Check that you can load the data "
   ]
  },
  {
   "cell_type": "code",
   "execution_count": 5,
   "id": "established-clinic",
   "metadata": {},
   "outputs": [],
   "source": [
    "import pandas as pd"
   ]
  },
  {
   "cell_type": "code",
   "execution_count": 6,
   "id": "developmental-roulette",
   "metadata": {},
   "outputs": [],
   "source": [
    "df = pd.read_csv(\n",
    "    \"../Datasets/example_air_passengers.csv\", parse_dates=[\"ds\"], index_col=[\"ds\"]\n",
    ")"
   ]
  },
  {
   "cell_type": "code",
   "execution_count": 7,
   "id": "quantitative-missouri",
   "metadata": {},
   "outputs": [
    {
     "data": {
      "text/html": [
       "<div>\n",
       "<style scoped>\n",
       "    .dataframe tbody tr th:only-of-type {\n",
       "        vertical-align: middle;\n",
       "    }\n",
       "\n",
       "    .dataframe tbody tr th {\n",
       "        vertical-align: top;\n",
       "    }\n",
       "\n",
       "    .dataframe thead th {\n",
       "        text-align: right;\n",
       "    }\n",
       "</style>\n",
       "<table border=\"1\" class=\"dataframe\">\n",
       "  <thead>\n",
       "    <tr style=\"text-align: right;\">\n",
       "      <th></th>\n",
       "      <th>y</th>\n",
       "    </tr>\n",
       "    <tr>\n",
       "      <th>ds</th>\n",
       "      <th></th>\n",
       "    </tr>\n",
       "  </thead>\n",
       "  <tbody>\n",
       "    <tr>\n",
       "      <th>1949-01-01</th>\n",
       "      <td>112</td>\n",
       "    </tr>\n",
       "    <tr>\n",
       "      <th>1949-02-01</th>\n",
       "      <td>118</td>\n",
       "    </tr>\n",
       "    <tr>\n",
       "      <th>1949-03-01</th>\n",
       "      <td>132</td>\n",
       "    </tr>\n",
       "    <tr>\n",
       "      <th>1949-04-01</th>\n",
       "      <td>129</td>\n",
       "    </tr>\n",
       "    <tr>\n",
       "      <th>1949-05-01</th>\n",
       "      <td>121</td>\n",
       "    </tr>\n",
       "  </tbody>\n",
       "</table>\n",
       "</div>"
      ],
      "text/plain": [
       "              y\n",
       "ds             \n",
       "1949-01-01  112\n",
       "1949-02-01  118\n",
       "1949-03-01  132\n",
       "1949-04-01  129\n",
       "1949-05-01  121"
      ]
     },
     "execution_count": 7,
     "metadata": {},
     "output_type": "execute_result"
    }
   ],
   "source": [
    "df.head()"
   ]
  },
  {
   "cell_type": "code",
   "execution_count": 8,
   "id": "straight-mouth",
   "metadata": {},
   "outputs": [
    {
     "data": {
      "text/plain": [
       "<AxesSubplot:xlabel='ds'>"
      ]
     },
     "execution_count": 8,
     "metadata": {},
     "output_type": "execute_result"
    },
    {
     "data": {
      "image/png": "[encoded data removed]",
      "text/plain": [
       "<Figure size 432x288 with 1 Axes>"
      ]
     },
     "metadata": {
      "needs_background": "light"
     },
     "output_type": "display_data"
    }
   ],
   "source": [
    "df.plot()"
   ]
  }
 ],
 "metadata": {
  "kernelspec": {
   "display_name": "Python 3 (ipykernel)",
   "language": "python",
   "name": "python3"
  },
  "language_info": {
   "codemirror_mode": {
    "name": "ipython",
    "version": 3
   },
   "file_extension": ".py",
   "mimetype": "text/x-python",
   "name": "python",
   "nbconvert_exporter": "python",
   "pygments_lexer": "ipython3",
   "version": "3.9.7"
  }
 },
 "nbformat": 4,
 "nbformat_minor": 5
}
