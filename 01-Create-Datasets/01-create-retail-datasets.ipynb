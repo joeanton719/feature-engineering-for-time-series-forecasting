{
 "cells": [
  {
   "cell_type": "markdown",
   "id": "d38003dc",
   "metadata": {},
   "source": [
    "# Retail sales\n",
    "\n",
    "In this notebook we will prepare and store the retail sales dataset found [here](https://raw.githubusercontent.com/facebook/prophet/master/examples/example_retail_sales.csv).\n",
    "\n",
    "**Description of data:**\n",
    "\n",
    "The timeseries is collected between January 1992 and May 2016. It consists of a single series of monthly values representing sales volumes. "
   ]
  },
  {
   "cell_type": "code",
   "execution_count": 16,
   "id": "20550b17",
   "metadata": {},
   "outputs": [],
   "source": [
    "import pandas as pd\n",
    "import numpy as np\n",
    "import matplotlib.pyplot as plt\n",
    "\n",
    "from statsmodels.tsa.seasonal import STL"
   ]
  },
  {
   "cell_type": "markdown",
   "id": "c101a1fd",
   "metadata": {},
   "source": [
    "# Get the dataset"
   ]
  },
  {
   "cell_type": "markdown",
   "id": "5a7a9efd",
   "metadata": {},
   "source": [
    "The dataset can be obtained from this [link](https://raw.githubusercontent.com/facebook/prophet/master/examples/example_retail_sales.csv). It will open a raw file in GitHub. A simple way of obtaining the data is to copy and paste the values from your browser into a text editor of your choice. \n",
    "Save it in the Datasets directory, which is found at the root of this project, with the filename `example_retail_sales.csv`. \n",
    "\n",
    "Alternatively, download it using Pandas by running:\n",
    "\n"
   ]
  },
  {
   "cell_type": "code",
   "execution_count": 17,
   "id": "9c11870c",
   "metadata": {},
   "outputs": [],
   "source": [
    "url = \"https://raw.githubusercontent.com/facebook/prophet/master/examples/example_retail_sales.csv\"\n",
    "df = pd.read_csv(url)\n",
    "df.to_csv(\"../Datasets/example_retail_sales.csv\", index=False)"
   ]
  },
  {
   "cell_type": "markdown",
   "id": "7d2d2df1",
   "metadata": {},
   "source": [
    "Now follow the rest of the notebook."
   ]
  },
  {
   "cell_type": "code",
   "execution_count": 18,
   "id": "8dd83b56",
   "metadata": {},
   "outputs": [],
   "source": [
    "df = pd.read_csv(\n",
    "    \"../Datasets/example_retail_sales.csv\",\n",
    "    parse_dates=[\"ds\"],\n",
    "    index_col=[\"ds\"],\n",
    "    nrows=160,\n",
    ")"
   ]
  },
  {
   "cell_type": "markdown",
   "id": "three-blind",
   "metadata": {},
   "source": [
    "# Create dataset with missing data"
   ]
  },
  {
   "cell_type": "code",
   "execution_count": 19,
   "id": "29342c35",
   "metadata": {},
   "outputs": [],
   "source": [
    "df_with_missing_data = df.copy()"
   ]
  },
  {
   "cell_type": "code",
   "execution_count": 20,
   "id": "75996056",
   "metadata": {},
   "outputs": [],
   "source": [
    "# Insert missing data into dataframe\n",
    "df_with_missing_data.iloc[10:11] = np.NaN\n",
    "df_with_missing_data.iloc[25:28] = np.NaN\n",
    "df_with_missing_data.iloc[40:45] = np.NaN\n",
    "df_with_missing_data.iloc[70:94] = np.NaN"
   ]
  },
  {
   "cell_type": "code",
   "execution_count": 21,
   "id": "ec695b32",
   "metadata": {},
   "outputs": [],
   "source": [
    "# Save dataset in Datasets directory\n",
    "df_with_missing_data.to_csv(\"../Datasets/example_retail_sales_with_missing_data.csv\")"
   ]
  },
  {
   "cell_type": "markdown",
   "id": "7b577878",
   "metadata": {},
   "source": [
    "# Create dataset with outliers"
   ]
  },
  {
   "cell_type": "code",
   "execution_count": 22,
   "id": "3ff0edb5",
   "metadata": {},
   "outputs": [],
   "source": [
    "df_with_outliers = df.copy()"
   ]
  },
  {
   "cell_type": "code",
   "execution_count": 23,
   "id": "2aba25c1",
   "metadata": {},
   "outputs": [],
   "source": [
    "# Insert outliers into dataframe\n",
    "outlier_idx = [20, 33, 66, 150]\n",
    "df_with_outliers.iloc[outlier_idx] = df_with_outliers.iloc[outlier_idx] * 1.7"
   ]
  },
  {
   "cell_type": "code",
   "execution_count": 24,
   "id": "45ee37cc",
   "metadata": {},
   "outputs": [],
   "source": [
    "# Save dataset in Datasets directory\n",
    "df_with_outliers.to_csv(\"../Datasets/example_retail_sales_with_outliers.csv\")"
   ]
  },
  {
   "cell_type": "markdown",
   "id": "9b2e3318",
   "metadata": {},
   "source": [
    "# Create dataset with advertisement campaigns"
   ]
  },
  {
   "cell_type": "code",
   "execution_count": 25,
   "id": "9f0631db",
   "metadata": {},
   "outputs": [],
   "source": [
    "# Simulate advertising campaigns\n",
    "\n",
    "res = STL(df['y'], robust=True,).fit()"
   ]
  },
  {
   "cell_type": "code",
   "execution_count": 26,
   "id": "dab451c3",
   "metadata": {},
   "outputs": [
    {
     "data": {
      "text/plain": [
       "13.0"
      ]
     },
     "execution_count": 26,
     "metadata": {},
     "output_type": "execute_result"
    }
   ],
   "source": [
    "# add column with advertisement campaign\n",
    "# originally with Nan values\n",
    "df['campaign'] = np.nan\n",
    "\n",
    "# add campaign whenever there is a sales peak\n",
    "df.loc[df[res.seasonal > 30000].index, 'campaign'] = 1\n",
    "\n",
    "# sanity check\n",
    "df['campaign'].sum()"
   ]
  },
  {
   "cell_type": "code",
   "execution_count": 27,
   "id": "2ad7dbcb",
   "metadata": {},
   "outputs": [],
   "source": [
    "df['campaign'] = df['campaign'].shift(-1)"
   ]
  },
  {
   "cell_type": "code",
   "execution_count": 28,
   "id": "e292164f",
   "metadata": {},
   "outputs": [
    {
     "data": {
      "text/plain": [
       "Text(0, 0.5, 'Sales')"
      ]
     },
     "execution_count": 28,
     "metadata": {},
     "output_type": "execute_result"
    },
    {
     "data": {
      "image/png": "[encoded data removed]",
      "text/plain": [
       "<Figure size 432x288 with 1 Axes>"
      ]
     },
     "metadata": {
      "needs_background": "light"
     },
     "output_type": "display_data"
    }
   ],
   "source": [
    "df['y'].plot()\n",
    "df['campaign'].plot(marker='o', color='red')\n",
    "\n",
    "plt.title('Advertising campaigns')\n",
    "plt.ylabel('Sales')"
   ]
  },
  {
   "cell_type": "code",
   "execution_count": 29,
   "id": "68de8ddd",
   "metadata": {},
   "outputs": [
    {
     "data": {
      "text/plain": [
       "Text(0, 0.5, 'Sales')"
      ]
     },
     "execution_count": 29,
     "metadata": {},
     "output_type": "execute_result"
    },
    {
     "data": {
      "image/png": "[encoded data removed]",
      "text/plain": [
       "<Figure size 432x288 with 1 Axes>"
      ]
     },
     "metadata": {
      "needs_background": "light"
     },
     "output_type": "display_data"
    }
   ],
   "source": [
    "df['y'].plot()\n",
    "\n",
    "for xc in df['campaign'].dropna().index:\n",
    "    plt.axvline(x=xc, color='r', linestyle='--')\n",
    "    \n",
    "plt.title('Advertising campaigns')\n",
    "plt.ylabel('Sales')"
   ]
  },
  {
   "cell_type": "code",
   "execution_count": 30,
   "id": "c827072e",
   "metadata": {},
   "outputs": [],
   "source": [
    "# Save dataset in Datasets directory\n",
    "\n",
    "df.to_csv('../Datasets/example_retail_sales_with_campaigns.csv')"
   ]
  },
  {
   "cell_type": "code",
   "execution_count": null,
   "id": "92189714",
   "metadata": {},
   "outputs": [],
   "source": []
  }
 ],
 "metadata": {
  "kernelspec": {
   "display_name": "Python 3 (ipykernel)",
   "language": "python",
   "name": "python3"
  },
  "language_info": {
   "codemirror_mode": {
    "name": "ipython",
    "version": 3
   },
   "file_extension": ".py",
   "mimetype": "text/x-python",
   "name": "python",
   "nbconvert_exporter": "python",
   "pygments_lexer": "ipython3",
   "version": "3.9.7"
  },
  "toc": {
   "base_numbering": 1,
   "nav_menu": {},
   "number_sections": true,
   "sideBar": true,
   "skip_h1_title": false,
   "title_cell": "Table of Contents",
   "title_sidebar": "Contents",
   "toc_cell": false,
   "toc_position": {},
   "toc_section_display": true,
   "toc_window_display": false
  }
 },
 "nbformat": 4,
 "nbformat_minor": 5
}
